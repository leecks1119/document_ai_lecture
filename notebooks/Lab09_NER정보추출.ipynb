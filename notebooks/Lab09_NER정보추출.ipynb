{
  "cells": [
    {
      "cell_type": "markdown",
      "metadata": {},
      "source": [
        "# ?�습 09: NER 기반 ?�심 ?�보 추출\n",
        "\n",
        "[![Open In Colab](https://colab.research.google.com/assets/colab-badge.svg)](https://colab.research.google.com/github/leecks1119/document_ai_lecture/blob/master/notebooks/Lab09_NER?�보추출.ipynb)\n",
        "\n",
        "## ?�� ?�습 목표\n",
        "- NER(Named Entity Recognition) ?�해\n",
        "- 규칙 기반 ?�보 추출\n",
        "- ?�전 문서?�서 ?�심 ?�보 ?�동 추출\n",
        "\n",
        "## ?�️ ?�요 ?�간: 30�?n",
        "## ?�� ?�이?? ⭐⭐⭐☆??n"
      ]
    },
    {
      "cell_type": "code",
      "execution_count": null,
      "metadata": {},
      "outputs": [],
      "source": [
        "# ?�경 ?�정\n",
        "!pip install -q git+https://github.com/leecks1119/document_ai_lecture.git\n"
      ]
    },
    {
      "cell_type": "code",
      "execution_count": null,
      "metadata": {},
      "outputs": [],
      "source": [
        "# UnifiedNERSystem ?�용\n",
        "from docai_course.ner import UnifiedNERSystem\n",
        "\n",
        "ner = UnifiedNERSystem()\n",
        "\n",
        "print(\"??NER ?�스??초기??\")\n",
        "print(\"\\n지???�티???�??\", list(ner.patterns.keys()))\n"
      ]
    },
    {
      "cell_type": "code",
      "execution_count": null,
      "metadata": {},
      "outputs": [],
      "source": [
        "# 계약???�보 추출\n",
        "contract_text = \"\"\"\n",
        "?�역 계약??n",
        "\n",
        "계약?�자: 2025??3??1??n",
        "발주?? ?�성?�자 주식?�사\n",
        "?�당?? 김철수 부??n",
        "?�락�? 02-2000-1234\n",
        "?�메?? chulsoo.kim@samsung.com\n",
        "\n",
        "?�주?? (�??�크?�루??n",
        "?�락�? 031-456-7890\n",
        "?�메?? contact@techsolution.com\n",
        "\n",
        "계약금액: 50,000,000??n",
        "?�금계좌: 123-456-789012\n",
        "\"\"\"\n",
        "\n",
        "print(\"?�� 계약???�보 추출 �?..\\n\")\n",
        "entities = ner.rule_based_ner(contract_text)\n",
        "ner.visualize_entities(contract_text, entities)\n"
      ]
    },
    {
      "cell_type": "code",
      "execution_count": null,
      "metadata": {},
      "outputs": [],
      "source": [
        "# 구조?�된 ?�이?�로 변??�??�??n",
        "import pandas as pd\n",
        "\n",
        "data = []\n",
        "for entity in entities:\n",
        "    data.append({\n",
        "        '?�??: entity['entity'],\n",
        "        '�?: entity['text'],\n",
        "        '?�뢰??: f\"{entity['confidence']*100:.0f}%\"\n",
        "    })\n",
        "\n",
        "df = pd.DataFrame(data)\n",
        "print(\"\\n?�� 추출???�보:\")\n",
        "print(df.to_string(index=False))\n",
        "\n",
        "# CSV�??�??n",
        "df.to_csv('contract_entities.csv', index=False, encoding='utf-8-sig')\n",
        "print(\"\\n???�???�료: contract_entities.csv\")\n"
      ]
    }
  ],
  "metadata": {
    "language_info": {
      "name": "python"
    }
  },
  "nbformat": 4,
  "nbformat_minor": 2
}

