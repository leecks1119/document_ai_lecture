{
  "cells": [
    {
      "cell_type": "markdown",
      "metadata": {},
      "source": [
        "# 실습 09: NER 기반 핵심 정보 추출\n",
        "\n",
        "[![Open In Colab](https://colab.research.google.com/assets/colab-badge.svg)](https://colab.research.google.com/github/leecks1119/document_ai_lecture/blob/master/notebooks/Lab09_NER정보추출.ipynb)\n",
        "\n",
        "## 🎯 학습 목표\n",
        "- NER(Named Entity Recognition) 이해\n",
        "- 규칙 기반 정보 추출\n",
        "- 실전 문서에서 핵심 정보 자동 추출\n",
        "\n",
        "## ⏱️ 소요 시간: 30분\n",
        "## 📊 난이도: ⭐⭐⭐☆☆\n"
      ]
    },
    {
      "cell_type": "code",
      "execution_count": null,
      "metadata": {},
      "outputs": [],
      "source": [
        "# 한글 폰트 설치 및 설정 (Colab용)\n",
        "!apt-get install -y fonts-nanum fonts-nanum-coding fonts-nanum-extra\n",
        "!fc-cache -fv\n",
        "\n",
        "# matplotlib 한글 폰트 설정\n",
        "import matplotlib.pyplot as plt\n",
        "import matplotlib.font_manager as fm\n",
        "\n",
        "font_path = '/usr/share/fonts/truetype/nanum/NanumGothic.ttf'\n",
        "fontprop = fm.FontProperties(fname=font_path, size=10)\n",
        "plt.rc('font', family=fontprop.get_name())\n",
        "plt.rc('axes', unicode_minus=False)\n",
        "\n",
        "print(\"✅ 한글 폰트 설정 완료!\")\n"
      ]
    },
    {
      "cell_type": "code",
      "execution_count": null,
      "metadata": {},
      "outputs": [],
      "source": [
        "# 환경 설정\n",
        "!pip install -q git+https://github.com/leecks1119/document_ai_lecture.git\n"
      ]
    },
    {
      "cell_type": "code",
      "execution_count": null,
      "metadata": {},
      "outputs": [],
      "source": [
        "# UnifiedNERSystem 사용\n",
        "from docai_course.ner import UnifiedNERSystem\n",
        "\n",
        "ner = UnifiedNERSystem()\n",
        "\n",
        "print(\"✅ NER 시스템 초기화!\")\n",
        "print(\"\\n지원 엔티티 타입:\", list(ner.patterns.keys()))\n"
      ]
    },
    {
      "cell_type": "code",
      "execution_count": null,
      "metadata": {},
      "outputs": [],
      "source": [
        "# 계약서 정보 추출\n",
        "contract_text = \"\"\"\n",
        "용역 계약서\n",
        "\n",
        "계약일자: 2025년 3월 1일\n",
        "발주자: 삼성전자 주식회사\n",
        "담당자: 김철수 부장\n",
        "연락처: 02-2000-1234\n",
        "이메일: chulsoo.kim@samsung.com\n",
        "\n",
        "수주자: (주)테크솔루션\n",
        "연락처: 031-456-7890\n",
        "이메일: contact@techsolution.com\n",
        "\n",
        "계약금액: 50,000,000원\n",
        "입금계좌: 123-456-789012\n",
        "\"\"\"\n",
        "\n",
        "print(\"📄 계약서 정보 추출 중...\\n\")\n",
        "entities = ner.rule_based_ner(contract_text)\n",
        "ner.visualize_entities(contract_text, entities)\n"
      ]
    },
    {
      "cell_type": "code",
      "execution_count": null,
      "metadata": {},
      "outputs": [],
      "source": [
        "# 구조화된 데이터로 변환 및 저장\n",
        "import pandas as pd\n",
        "\n",
        "data = []\n",
        "for entity in entities:\n",
        "    data.append({\n",
        "        '타입': entity['entity'],\n",
        "        '값': entity['text'],\n",
        "        '신뢰도': f\"{entity['confidence']*100:.0f}%\"\n",
        "    })\n",
        "\n",
        "df = pd.DataFrame(data)\n",
        "print(\"\\n📊 추출된 정보:\")\n",
        "print(df.to_string(index=False))\n",
        "\n",
        "# CSV로 저장\n",
        "df.to_csv('contract_entities.csv', index=False, encoding='utf-8-sig')\n",
        "print(\"\\n✅ 저장 완료: contract_entities.csv\")\n"
      ]
    }
  ],
  "metadata": {
    "language_info": {
      "name": "python"
    }
  },
  "nbformat": 4,
  "nbformat_minor": 2
}
