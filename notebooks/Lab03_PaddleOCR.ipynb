{
  "cells": [
    {
      "cell_type": "markdown",
      "metadata": {},
      "source": [
        "# ?�습 03: PaddleOCR 기본 ?�용�?n",
        "\n",
        "[![Open In Colab](https://colab.research.google.com/assets/colab-badge.svg)](https://colab.research.google.com/github/leecks1119/document_ai_lecture/blob/master/notebooks/Lab03_PaddleOCR.ipynb)\n",
        "\n",
        "## ?�� ?�습 목표\n",
        "- PaddleOCR ?�치 �?기본 ?�용�?n",
        "- ?��?/?�어 ?�합 문서 ?�식\n",
        "- 결과 ?�각??n",
        "\n",
        "## ?�️ ?�요 ?�간: 20�?n",
        "## ?�� ?�이?? ⭐⭐?�☆??n"
      ]
    },
    {
      "cell_type": "code",
      "execution_count": null,
      "metadata": {},
      "outputs": [],
      "source": [
        "# PaddleOCR ?�치\n",
        "!pip install -q paddlepaddle paddleocr\n",
        "print(\"??PaddleOCR ?�치 ?�료!\")\n"
      ]
    },
    {
      "cell_type": "code",
      "execution_count": null,
      "metadata": {},
      "outputs": [],
      "source": [
        "# ?�플 ?��?지 ?�성\n",
        "from PIL import Image, ImageDraw, ImageFont\n",
        "import numpy as np\n",
        "\n",
        "img = Image.new('RGB', (600, 400), color='white')\n",
        "draw = ImageDraw.Draw(img)\n",
        "\n",
        "text = \"\"\"?�성?�자 주식?�사\n",
        "Samsung Electronics\n",
        "\n",
        "?�의??(Purchase Request)\n",
        "\n",
        "?�의번호: PR-2025-0001\n",
        "?�성?�자: 2025??1??15??n",
        "?�당부?? 구매?�\n",
        "\"\"\"\n",
        "\n",
        "draw.text((30, 30), text, fill='black')\n",
        "img.save('sample_doc.jpg')\n",
        "\n",
        "print(\"???�플 ?��?지 ?�성 ?�료!\")\n",
        "img\n"
      ]
    },
    {
      "cell_type": "code",
      "execution_count": null,
      "metadata": {},
      "outputs": [],
      "source": [
        "# PaddleOCR ?�행\n",
        "from paddleocr import PaddleOCR\n",
        "\n",
        "# ?��?+?�어 OCR 초기??(최신 API)\n",
        "ocr = PaddleOCR(use_textline_orientation=True, lang='korean')\n",
        "\n",
        "# OCR ?�행\n",
        "result = ocr.ocr('sample_doc.jpg', cls=True)\n",
        "\n",
        "print(\"\\n?�� ?�식???�스??\\n\")\n",
        "print(\"=\"*50)\n",
        "for line in result[0]:\n",
        "    text = line[1][0]\n",
        "    confidence = line[1][1]\n",
        "    print(f\"{text:30s} (?�뢰?? {confidence:.2%})\")\n",
        "print(\"=\"*50)\n"
      ]
    },
    {
      "cell_type": "code",
      "execution_count": null,
      "metadata": {},
      "outputs": [],
      "source": [
        "# 결과 ?�각??n",
        "from paddleocr import draw_ocr\n",
        "import cv2\n",
        "import matplotlib.pyplot as plt\n",
        "\n",
        "# ?�본 ?��?지 로드\n",
        "image = cv2.imread('sample_doc.jpg')\n",
        "image = cv2.cvtColor(image, cv2.COLOR_BGR2RGB)\n",
        "\n",
        "# 바운??박스 추출\n",
        "boxes = [line[0] for line in result[0]]\n",
        "texts = [line[1][0] for line in result[0]]\n",
        "scores = [line[1][1] for line in result[0]]\n",
        "\n",
        "# ?�각??n",
        "im_show = draw_ocr(image, boxes, texts, scores, font_path=None)\n",
        "im_show = Image.fromarray(im_show)\n",
        "\n",
        "plt.figure(figsize=(12, 8))\n",
        "plt.imshow(im_show)\n",
        "plt.axis('off')\n",
        "plt.title('PaddleOCR ?�식 결과', fontsize=16)\n",
        "plt.tight_layout()\n",
        "plt.show()\n",
        "\n",
        "print(\"\\n???�각???�료!\")\n"
      ]
    }
  ],
  "metadata": {
    "language_info": {
      "name": "python"
    }
  },
  "nbformat": 4,
  "nbformat_minor": 2
}

