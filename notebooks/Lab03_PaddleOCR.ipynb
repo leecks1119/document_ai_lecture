{
  "cells": [
    {
      "cell_type": "markdown",
      "metadata": {},
      "source": [
        "# 실습 03: PaddleOCR 기본 사용법\n",
        "\n",
        "[![Open In Colab](https://colab.research.google.com/assets/colab-badge.svg)](https://colab.research.google.com/github/leecks1119/document_ai_lecture/blob/master/notebooks/Lab03_PaddleOCR.ipynb)\n",
        "\n",
        "## 🎯 학습 목표\n",
        "- PaddleOCR 설치 및 기본 사용법\n",
        "- 한글/영어 혼합 문서 인식\n",
        "- 결과 시각화\n",
        "\n",
        "## ⏱️ 소요 시간: 20분\n",
        "## 📊 난이도: ⭐⭐☆☆☆\n"
      ]
    },
    {
      "cell_type": "code",
      "execution_count": 1,
      "metadata": {},
      "outputs": [
        {
          "name": "stderr",
          "output_type": "stream",
          "text": [
            "'apt-get'��(��) ���� �Ǵ� �ܺ� ����, ������ �� �ִ� ���α׷�, �Ǵ�\n",
            "��ġ ������ �ƴմϴ�.\n",
            "'fc-cache'��(��) ���� �Ǵ� �ܺ� ����, ������ �� �ִ� ���α׷�, �Ǵ�\n",
            "��ġ ������ �ƴմϴ�.\n"
          ]
        },
        {
          "ename": "ModuleNotFoundError",
          "evalue": "No module named 'matplotlib'",
          "output_type": "error",
          "traceback": [
            "\u001b[31m---------------------------------------------------------------------------\u001b[39m",
            "\u001b[31mModuleNotFoundError\u001b[39m                       Traceback (most recent call last)",
            "\u001b[36mCell\u001b[39m\u001b[36m \u001b[39m\u001b[32mIn[1]\u001b[39m\u001b[32m, line 6\u001b[39m\n\u001b[32m      3\u001b[39m get_ipython().system(\u001b[33m'\u001b[39m\u001b[33mfc-cache -fv\u001b[39m\u001b[33m'\u001b[39m)\n\u001b[32m      5\u001b[39m \u001b[38;5;66;03m# matplotlib 한글 폰트 설정\u001b[39;00m\n\u001b[32m----> \u001b[39m\u001b[32m6\u001b[39m \u001b[38;5;28;01mimport\u001b[39;00m\u001b[38;5;250m \u001b[39m\u001b[34;01mmatplotlib\u001b[39;00m\u001b[34;01m.\u001b[39;00m\u001b[34;01mpyplot\u001b[39;00m\u001b[38;5;250m \u001b[39m\u001b[38;5;28;01mas\u001b[39;00m\u001b[38;5;250m \u001b[39m\u001b[34;01mplt\u001b[39;00m\n\u001b[32m      7\u001b[39m \u001b[38;5;28;01mimport\u001b[39;00m\u001b[38;5;250m \u001b[39m\u001b[34;01mmatplotlib\u001b[39;00m\u001b[34;01m.\u001b[39;00m\u001b[34;01mfont_manager\u001b[39;00m\u001b[38;5;250m \u001b[39m\u001b[38;5;28;01mas\u001b[39;00m\u001b[38;5;250m \u001b[39m\u001b[34;01mfm\u001b[39;00m\n\u001b[32m      9\u001b[39m font_path = \u001b[33m'\u001b[39m\u001b[33m/usr/share/fonts/truetype/nanum/NanumGothic.ttf\u001b[39m\u001b[33m'\u001b[39m\n",
            "\u001b[31mModuleNotFoundError\u001b[39m: No module named 'matplotlib'"
          ]
        }
      ],
      "source": [
        "# 한글 폰트 설치 및 설정 (Colab용)\n",
        "!apt-get install -y fonts-nanum fonts-nanum-coding fonts-nanum-extra\n",
        "!fc-cache -fv\n",
        "\n",
        "# matplotlib 한글 폰트 설정\n",
        "import matplotlib.pyplot as plt\n",
        "import matplotlib.font_manager as fm\n",
        "\n",
        "font_path = '/usr/share/fonts/truetype/nanum/NanumGothic.ttf'\n",
        "fontprop = fm.FontProperties(fname=font_path, size=10)\n",
        "plt.rc('font', family=fontprop.get_name())\n",
        "plt.rc('axes', unicode_minus=False)\n",
        "\n",
        "print(\"✅ 한글 폰트 설정 완료!\")\n"
      ]
    },
    {
      "cell_type": "code",
      "execution_count": null,
      "metadata": {},
      "outputs": [],
      "source": [
        "# PaddleOCR 설치\n",
        "!pip install -q paddlepaddle paddleocr\n",
        "print(\"✅ PaddleOCR 설치 완료!\")\n"
      ]
    },
    {
      "cell_type": "code",
      "execution_count": null,
      "metadata": {},
      "outputs": [],
      "source": [
        "# 샘플 이미지 생성\n",
        "from PIL import Image, ImageDraw, ImageFont\n",
        "import numpy as np\n",
        "\n",
        "# 한글 폰트 로드 (Windows/Linux 호환)\n",
        "try:\n",
        "    font = ImageFont.truetype(\"C:\\\\Windows\\\\Fonts\\\\malgun.ttf\", 20)\n",
        "except:\n",
        "    try:\n",
        "        font = ImageFont.truetype(\"/usr/share/fonts/truetype/nanum/NanumGothic.ttf\", 20)\n",
        "    except:\n",
        "        font = ImageFont.load_default()\n",
        "\n",
        "img = Image.new('RGB', (600, 400), color='white')\n",
        "draw = ImageDraw.Draw(img)\n",
        "\n",
        "text = \"\"\"삼성전자 주식회사\n",
        "Samsung Electronics\n",
        "\n",
        "품의서 (Purchase Request)\n",
        "\n",
        "품의번호: PR-2025-0001\n",
        "작성일자: 2025년 1월 15일\n",
        "담당부서: 구매팀\n",
        "\"\"\"\n",
        "\n",
        "draw.text((30, 30), text, fill='black', font=font)\n",
        "img.save('sample_doc.jpg')\n",
        "\n",
        "print(\"✅ 샘플 이미지 생성 완료!\")\n",
        "img\n"
      ]
    },
    {
      "cell_type": "code",
      "execution_count": null,
      "metadata": {},
      "outputs": [],
      "source": [
        "# PaddleOCR 실행\n",
        "from paddleocr import PaddleOCR\n",
        "\n",
        "# 한글+영어 OCR 초기화\n",
        "ocr = PaddleOCR(use_angle_cls=True, lang='korean')\n",
        "\n",
        "# OCR 실행\n",
        "result = ocr.ocr('sample_doc.jpg', cls=True)\n",
        "\n",
        "print(\"\\n📄 인식된 텍스트:\\n\")\n",
        "print(\"=\"*50)\n",
        "\n",
        "# 결과 출력\n",
        "for idx, line in enumerate(result[0]):\n",
        "    text = line[1][0]  # 텍스트\n",
        "    score = line[1][1]  # 신뢰도\n",
        "    print(f\"{text:30s} (신뢰도: {score:.2%})\")\n",
        "\n",
        "print(\"=\"*50)"
      ]
    },
    {
      "cell_type": "code",
      "execution_count": null,
      "metadata": {},
      "outputs": [],
      "source": [
        "import cv2\n",
        "import matplotlib.pyplot as plt\n",
        "from PIL import Image, ImageDraw, ImageFont\n",
        "import numpy as np\n",
        "\n",
        "# 한글 폰트 로드 (이미지에 텍스트 표시용)\n",
        "try:\n",
        "    label_font = ImageFont.truetype(\"C:\\\\Windows\\\\Fonts\\\\malgun.ttf\", 14)\n",
        "except:\n",
        "    try:\n",
        "        label_font = ImageFont.truetype(\"/usr/share/fonts/truetype/nanum/NanumGothic.ttf\", 14)\n",
        "    except:\n",
        "        label_font = ImageFont.load_default()\n",
        "\n",
        "# 원본 이미지 로드\n",
        "original_img = cv2.imread('sample_doc.jpg')\n",
        "original_img_rgb = cv2.cvtColor(original_img, cv2.COLOR_BGR2RGB)\n",
        "\n",
        "print(\"=\"*70)\n",
        "print(\"🔍 OCR 결과 시각화\")\n",
        "print(\"=\"*70)\n",
        "print(f\"원본 이미지 shape: {original_img_rgb.shape} (H, W, C)\")\n",
        "\n",
        "# 이미지에 박스 그리기\n",
        "pil_img = Image.fromarray(original_img_rgb)\n",
        "draw = ImageDraw.Draw(pil_img)\n",
        "\n",
        "print(f\"\\n📦 인식된 텍스트와 박스 좌표:\")\n",
        "\n",
        "for idx, line in enumerate(result[0]):\n",
        "    box = line[0]  # 박스 좌표 [[x1,y1], [x2,y2], [x3,y3], [x4,y4]]\n",
        "    text = line[1][0]  # 텍스트\n",
        "    score = line[1][1]  # 신뢰도\n",
        "    \n",
        "    if score < 0.5:\n",
        "        continue\n",
        "    \n",
        "    # 박스 좌표를 정수로 변환\n",
        "    points = [(int(point[0]), int(point[1])) for point in box]\n",
        "    \n",
        "    # 색상 결정 (높은 신뢰도: 초록, 낮은 신뢰도: 주황)\n",
        "    color = (0, 255, 0) if score > 0.8 else (255, 165, 0)\n",
        "    \n",
        "    # 박스 그리기\n",
        "    draw.polygon(points, outline=color, width=2)\n",
        "    \n",
        "    # 텍스트 레이블 추가\n",
        "    text_x = int(box[0][0])\n",
        "    text_y = int(box[0][1]) - 20\n",
        "    draw.text((text_x, max(0, text_y)), f\"{text[:15]} {score:.0%}\", fill=color, font=label_font)\n",
        "    \n",
        "    # 상세 정보 출력 (처음 3개만)\n",
        "    if idx < 3:\n",
        "        print(f\"\\n[{idx+1}] '{text}' (신뢰도: {score:.1%})\")\n",
        "        print(f\"    박스: {points}\")\n",
        "\n",
        "# 결과 시각화\n",
        "plt.figure(figsize=(15, 10))\n",
        "plt.imshow(pil_img)\n",
        "plt.title('PaddleOCR 인식 결과', fontsize=16, fontproperties=fontprop)\n",
        "plt.axis('off')\n",
        "plt.tight_layout()\n",
        "plt.show()\n",
        "\n",
        "print(f\"\\n✅ 총 {len(result[0])}개의 텍스트 영역 인식 완료!\")\n",
        "print(\"=\"*70)"
      ]
    }
  ],
  "metadata": {
    "kernelspec": {
      "display_name": "Python 3",
      "language": "python",
      "name": "python3"
    },
    "language_info": {
      "codemirror_mode": {
        "name": "ipython",
        "version": 3
      },
      "file_extension": ".py",
      "mimetype": "text/x-python",
      "name": "python",
      "nbconvert_exporter": "python",
      "pygments_lexer": "ipython3",
      "version": "3.12.10"
    }
  },
  "nbformat": 4,
  "nbformat_minor": 2
}
