{
  "cells": [
    {
      "cell_type": "markdown",
      "metadata": {},
      "source": [
        "# 실습 03: PaddleOCR 기본 사용법\n",
        "\n",
        "[![Open In Colab](https://colab.research.google.com/assets/colab-badge.svg)](https://colab.research.google.com/github/leecks1119/document_ai_lecture/blob/master/notebooks/Lab03_PaddleOCR.ipynb)\n",
        "\n",
        "## 🎯 학습 목표\n",
        "- PaddleOCR 설치 및 기본 사용법\n",
        "- 한글/영어 혼합 문서 인식\n",
        "- 결과 시각화\n",
        "\n",
        "## ⏱️ 소요 시간: 20분\n",
        "## 📊 난이도: ⭐⭐☆☆☆\n"
      ]
    },
    {
      "cell_type": "code",
      "execution_count": null,
      "metadata": {},
      "outputs": [],
      "source": [
        "# PaddleOCR 설치\n",
        "!pip install -q paddlepaddle paddleocr\n",
        "print(\"✅ PaddleOCR 설치 완료!\")\n"
      ]
    },
    {
      "cell_type": "code",
      "execution_count": null,
      "metadata": {},
      "outputs": [],
      "source": [
        "# 샘플 이미지 생성\n",
        "from PIL import Image, ImageDraw, ImageFont\n",
        "import numpy as np\n",
        "\n",
        "img = Image.new('RGB', (600, 400), color='white')\n",
        "draw = ImageDraw.Draw(img)\n",
        "\n",
        "text = \"\"\"삼성전자 주식회사\n",
        "Samsung Electronics\n",
        "\n",
        "품의서 (Purchase Request)\n",
        "\n",
        "품의번호: PR-2025-0001\n",
        "작성일자: 2025년 1월 15일\n",
        "담당부서: 구매팀\n",
        "\"\"\"\n",
        "\n",
        "draw.text((30, 30), text, fill='black')\n",
        "img.save('sample_doc.jpg')\n",
        "\n",
        "print(\"✅ 샘플 이미지 생성 완료!\")\n",
        "img\n"
      ]
    },
    {
      "cell_type": "code",
      "execution_count": null,
      "metadata": {},
      "outputs": [],
      "source": [
        "# PaddleOCR 실행\n",
        "from paddleocr import PaddleOCR\n",
        "\n",
        "# 한글+영어 OCR 초기화 (최신 API)\n",
        "ocr = PaddleOCR(use_textline_orientation=True, lang='korean')\n",
        "\n",
        "# OCR 실행 (최신 API: predict 사용)\n",
        "result = ocr.predict('sample_doc.jpg')\n",
        "\n",
        "print(\"\\n📄 인식된 텍스트:\\n\")\n",
        "print(\"=\"*50)\n",
        "\n",
        "# PaddleOCR predict() 결과 구조: [[[bbox, (text, confidence)], ...]]\n",
        "for line in result[0]:\n",
        "    bbox = line[0]  # 바운딩 박스 좌표\n",
        "    text = line[1]  # 텍스트 (문자열)\n",
        "    confidence = line[2]  # 신뢰도 (float)\n",
        "    print(f\"{text:30s} (신뢰도: {confidence:.2%})\")\n",
        "print(\"=\"*50)\n"
      ]
    },
    {
      "cell_type": "code",
      "execution_count": null,
      "metadata": {},
      "outputs": [],
      "source": [
        "# 결과 시각화\n",
        "from paddleocr import draw_ocr\n",
        "import cv2\n",
        "import matplotlib.pyplot as plt\n",
        "\n",
        "# 원본 이미지 로드\n",
        "image = cv2.imread('sample_doc.jpg')\n",
        "image = cv2.cvtColor(image, cv2.COLOR_BGR2RGB)\n",
        "\n",
        "# 바운딩 박스 추출\n",
        "boxes = [line[0] for line in result[0]]\n",
        "texts = [line[1] for line in result[0]]\n",
        "scores = [line[2] for line in result[0]]\n",
        "\n",
        "# 시각화\n",
        "im_show = draw_ocr(image, boxes, texts, scores, font_path=None)\n",
        "im_show = Image.fromarray(im_show)\n",
        "\n",
        "plt.figure(figsize=(12, 8))\n",
        "plt.imshow(im_show)\n",
        "plt.axis('off')\n",
        "plt.title('PaddleOCR 인식 결과', fontsize=16)\n",
        "plt.tight_layout()\n",
        "plt.show()\n",
        "\n",
        "print(\"\\n✅ 시각화 완료!\")\n"
      ]
    }
  ],
  "metadata": {
    "language_info": {
      "name": "python"
    }
  },
  "nbformat": 4,
  "nbformat_minor": 2
}
