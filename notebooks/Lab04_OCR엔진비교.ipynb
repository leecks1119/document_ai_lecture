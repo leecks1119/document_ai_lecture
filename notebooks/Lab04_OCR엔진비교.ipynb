{
  "cells": [
    {
      "cell_type": "markdown",
      "metadata": {},
      "source": [
        "# ?�습 04: OCR ?�진 ?�능 비교\n",
        "\n",
        "[![Open In Colab](https://colab.research.google.com/assets/colab-badge.svg)](https://colab.research.google.com/github/leecks1119/document_ai_lecture/blob/master/notebooks/Lab04_OCR?�진비교.ipynb)\n",
        "\n",
        "## ?�� ?�습 목표\n",
        "- ?�러 OCR ?�진 비교 (Tesseract, PaddleOCR, EasyOCR)\n",
        "- ?�확?? ?�도, ?�뢰??측정\n",
        "- 최적 OCR ?�진 ?�택 방법\n",
        "\n",
        "## ?�️ ?�요 ?�간: 30�?n",
        "## ?�� ?�이?? ⭐⭐⭐☆??n"
      ]
    },
    {
      "cell_type": "code",
      "execution_count": null,
      "metadata": {},
      "outputs": [],
      "source": [
        "# ?�경 ?�정\n",
        "!pip install -q git+https://github.com/leecks1119/document_ai_lecture.git\n",
        "!apt-get install -y tesseract-ocr tesseract-ocr-kor\n"
      ]
    },
    {
      "cell_type": "code",
      "execution_count": null,
      "metadata": {},
      "outputs": [],
      "source": [
        "# OCRBenchmark ?�래???�용\n",
        "from docai_course.ocr import OCRBenchmark\n",
        "from PIL import Image, ImageDraw\n",
        "import numpy as np\n",
        "\n",
        "# OCR 벤치마크 객체 ?�성\n",
        "benchmark = OCRBenchmark(use_gpu=True)\n",
        "\n",
        "# ?�플 ?��?지 ?�성\n",
        "img = Image.new('RGB', (600, 200), color='white')\n",
        "draw = ImageDraw.Draw(img)\n",
        "draw.text((20, 20), \"?�성?�자 주식?�사\\n계약??\n2025??1??15??\n?�당?? ?�길??\n?�락�? 02-1234-5678\", fill='black')\n",
        "img.save('sample_document.jpg')\n",
        "\n",
        "print(\"???�플 ?��?지 ?�성 ?�료!\")\n"
      ]
    },
    {
      "cell_type": "code",
      "execution_count": null,
      "metadata": {},
      "outputs": [],
      "source": [
        "# OCR ?�진 비교 ?�행\n",
        "ground_truth = \"?�성?�자 주식?�사 계약??2025??1??15???�당?? ?�길???�락�? 02-1234-5678\"\n",
        "\n",
        "results = benchmark.run_comparison(\n",
        "    image_path='sample_document.jpg',\n",
        "    ground_truth=ground_truth\n",
        ")\n",
        "\n",
        "print(\"\\n??OCR 비교 ?�료!\")\n"
      ]
    },
    {
      "cell_type": "code",
      "execution_count": null,
      "metadata": {},
      "outputs": [],
      "source": [
        "# 결과 분석 �??�각??n",
        "import pandas as pd\n",
        "import matplotlib.pyplot as plt\n",
        "\n",
        "df = pd.DataFrame([r for r in results if 'error' not in r])\n",
        "\n",
        "print(\"\\n?�� OCR ?�진 비교 결과:\")\n",
        "print(df[['engine', 'character_accuracy', 'processing_time', 'confidence']])\n",
        "\n",
        "# 최고 ?�능 ?�진\n",
        "best = df.loc[df['character_accuracy'].idxmax()]\n",
        "print(f\"\\n?�� 최고 ?�확?? {best['engine']} ({best['character_accuracy']:.2f}%)\")\n",
        "\n",
        "# 결과 ?�??n",
        "benchmark.save_results(results, 'lab04_results.json')\n",
        "print(\"\\n??결과 ?�???�료!\")\n"
      ]
    }
  ],
  "metadata": {
    "language_info": {
      "name": "python"
    }
  },
  "nbformat": 4,
  "nbformat_minor": 2
}

