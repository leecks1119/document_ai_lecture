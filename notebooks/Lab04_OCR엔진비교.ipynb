{
  "cells": [
    {
      "cell_type": "markdown",
      "metadata": {},
      "source": [
        "# 실습 04: OCR 엔진 성능 비교\n",
        "\n",
        "[![Open In Colab](https://colab.research.google.com/assets/colab-badge.svg)](https://colab.research.google.com/github/leecks1119/document_ai_lecture/blob/master/notebooks/Lab04_OCR엔진비교.ipynb)\n",
        "\n",
        "## 🎯 학습 목표\n",
        "- 여러 OCR 엔진 비교 (Tesseract, PaddleOCR, EasyOCR)\n",
        "- 정확도, 속도, 신뢰도 측정\n",
        "- 최적 OCR 엔진 선택 방법\n",
        "\n",
        "## ⏱️ 소요 시간: 30분\n",
        "## 📊 난이도: ⭐⭐⭐☆☆\n"
      ]
    },
    {
      "cell_type": "code",
      "execution_count": null,
      "metadata": {},
      "outputs": [],
      "source": [
        "# 한글 폰트 설치 및 설정 (Colab용)\n",
        "!apt-get install -y fonts-nanum fonts-nanum-coding fonts-nanum-extra\n",
        "!fc-cache -fv\n",
        "\n",
        "# matplotlib 한글 폰트 설정\n",
        "import matplotlib.pyplot as plt\n",
        "import matplotlib.font_manager as fm\n",
        "\n",
        "font_path = '/usr/share/fonts/truetype/nanum/NanumGothic.ttf'\n",
        "fontprop = fm.FontProperties(fname=font_path, size=10)\n",
        "plt.rc('font', family=fontprop.get_name())\n",
        "plt.rc('axes', unicode_minus=False)\n",
        "\n",
        "print(\"✅ 한글 폰트 설정 완료!\")\n"
      ]
    },
    {
      "cell_type": "code",
      "execution_count": null,
      "metadata": {},
      "outputs": [],
      "source": [
        "# 환경 설정\n",
        "# --force-reinstall: 캐시 무시하고 최신 버전 강제 재설치\n",
        "!pip install -q --force-reinstall --no-cache-dir git+https://github.com/leecks1119/document_ai_lecture.git\n",
        "!apt-get install -y tesseract-ocr tesseract-ocr-kor\n"
      ]
    },
    {
      "cell_type": "code",
      "execution_count": null,
      "metadata": {},
      "outputs": [],
      "source": [
        "# OCRBenchmark 클래스 사용\n",
        "from docai_course.ocr import OCRBenchmark\n",
        "from PIL import Image, ImageDraw\n",
        "import numpy as np\n",
        "\n",
        "# OCR 벤치마크 객체 생성 (GPU는 자동 감지)\n",
        "benchmark = OCRBenchmark()\n",
        "\n",
        "# 샘플 이미지 생성\n",
        "img = Image.new('RGB', (600, 200), color='white')\n",
        "draw = ImageDraw.Draw(img)\n",
        "draw.text((20, 20), \"삼성전자 주식회사\\n계약서\\n2025년 1월 15일\\n담당자: 홍길동\\n연락처: 02-1234-5678\", fill='black')\n",
        "img.save('sample_document.jpg')\n",
        "\n",
        "print(\"✅ 샘플 이미지 생성 완료!\")\n"
      ]
    },
    {
      "cell_type": "code",
      "execution_count": null,
      "metadata": {},
      "outputs": [],
      "source": [
        "# OCR 엔진 비교 실행\n",
        "ground_truth = \"삼성전자 주식회사 계약서 2025년 1월 15일 담당자: 홍길동 연락처: 02-1234-5678\"\n",
        "\n",
        "results = benchmark.run_comparison(\n",
        "    image_path='sample_document.jpg',\n",
        "    ground_truth=ground_truth\n",
        ")\n",
        "\n",
        "print(\"\\n✅ OCR 비교 완료!\")\n"
      ]
    },
    {
      "cell_type": "code",
      "execution_count": null,
      "metadata": {},
      "outputs": [],
      "source": [
        "# 결과 분석 및 시각화\n",
        "import pandas as pd\n",
        "import matplotlib.pyplot as plt\n",
        "\n",
        "df = pd.DataFrame([r for r in results if 'error' not in r])\n",
        "\n",
        "print(\"\\n📊 OCR 엔진 비교 결과:\")\n",
        "print(df[['engine', 'character_accuracy', 'processing_time', 'confidence']])\n",
        "\n",
        "# 최고 성능 엔진\n",
        "best = df.loc[df['character_accuracy'].idxmax()]\n",
        "print(f\"\\n🏆 최고 정확도: {best['engine']} ({best['character_accuracy']:.2f}%)\")\n",
        "\n",
        "# 결과 저장\n",
        "benchmark.save_results(results, 'lab04_results.json')\n",
        "print(\"\\n✅ 결과 저장 완료!\")\n"
      ]
    }
  ],
  "metadata": {
    "language_info": {
      "name": "python"
    }
  },
  "nbformat": 4,
  "nbformat_minor": 2
}
