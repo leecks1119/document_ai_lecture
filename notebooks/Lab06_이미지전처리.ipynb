{
  "cells": [
    {
      "cell_type": "markdown",
      "metadata": {},
      "source": [
        "# 실습 06: 이미지 전처리로 OCR 정확도 향상\n",
        "\n",
        "[![Open In Colab](https://colab.research.google.com/assets/colab-badge.svg)](https://colab.research.google.com/github/leecks1119/document_ai_lecture/blob/master/notebooks/Lab06_이미지전처리.ipynb)\n",
        "\n",
        "## 🎯 학습 목표\n",
        "- 이미지 품질 평가\n",
        "- 노이즈 제거, 이진화, 기울기 보정\n",
        "- 전처리 전후 OCR 성능 비교\n",
        "\n",
        "## ⏱️ 소요 시간: 40분\n",
        "## 📊 난이도: ⭐⭐⭐⭐☆\n"
      ]
    },
    {
      "cell_type": "code",
      "execution_count": null,
      "metadata": {},
      "outputs": [],
      "source": [
        "# 한글 폰트 설치 및 설정 (Colab용)\n",
        "!apt-get install -y fonts-nanum fonts-nanum-coding fonts-nanum-extra\n",
        "!fc-cache -fv\n",
        "\n",
        "# matplotlib 한글 폰트 설정\n",
        "import matplotlib.pyplot as plt\n",
        "import matplotlib.font_manager as fm\n",
        "\n",
        "font_path = '/usr/share/fonts/truetype/nanum/NanumGothic.ttf'\n",
        "fontprop = fm.FontProperties(fname=font_path, size=10)\n",
        "plt.rc('font', family=fontprop.get_name())\n",
        "plt.rc('axes', unicode_minus=False)\n",
        "\n",
        "print(\"✅ 한글 폰트 설정 완료!\")\n"
      ]
    },
    {
      "cell_type": "code",
      "execution_count": null,
      "metadata": {},
      "outputs": [],
      "source": [
        "# 환경 설정\n",
        "!pip install -q git+https://github.com/leecks1119/document_ai_lecture.git\n",
        "!apt-get install -y tesseract-ocr tesseract-ocr-kor\n"
      ]
    },
    {
      "cell_type": "code",
      "execution_count": null,
      "metadata": {},
      "outputs": [],
      "source": [
        "# 노이즈가 있는 테스트 이미지 생성\n",
        "from docai_course.preprocessing import DocumentPreprocessor\n",
        "from PIL import Image, ImageDraw, ImageFont\n",
        "import cv2\n",
        "import numpy as np\n",
        "\n",
        "# 한글 폰트 로드\n",
        "try:\n",
        "    font = ImageFont.truetype(\"C:\\\\Windows\\\\Fonts\\\\malgun.ttf\", 20)\n",
        "except:\n",
        "    try:\n",
        "        font = ImageFont.truetype(\"/usr/share/fonts/truetype/nanum/NanumGothic.ttf\", 20)\n",
        "    except:\n",
        "        font = ImageFont.load_default()\n",
        "\n",
        "# 깨끗한 이미지 생성\n",
        "img = Image.new('RGB', (600, 300), color='white')\n",
        "draw = ImageDraw.Draw(img)\n",
        "text = \"계약서\\n\\n계약일자: 2025년 1월 15일\\n계약금액: 1,500,000원\\n담당자: 홍길동 (02-1234-5678)\"\n",
        "draw.text((30, 30), text, fill='black', font=font)\n",
        "\n",
        "# OpenCV 변환 및 노이즈 추가\n",
        "img_cv = cv2.cvtColor(np.array(img), cv2.COLOR_RGB2BGR)\n",
        "noise = np.random.normal(0, 25, img_cv.shape).astype(np.uint8)\n",
        "noisy_img = cv2.add(img_cv, noise)\n",
        "\n",
        "# 기울기 추가 (5도)\n",
        "rows, cols = noisy_img.shape[:2]\n",
        "M = cv2.getRotationMatrix2D((cols/2, rows/2), 5, 1)\n",
        "rotated_img = cv2.warpAffine(noisy_img, M, (cols, rows), borderValue=(255,255,255))\n",
        "cv2.imwrite('noisy_document.jpg', rotated_img)\n",
        "\n",
        "print(\"✅ 노이즈 이미지 생성 완료!\")\n"
      ]
    },
    {
      "cell_type": "code",
      "execution_count": null,
      "metadata": {},
      "outputs": [],
      "source": [
        "# 적응적 전처리 실행\n",
        "preprocessor = DocumentPreprocessor(debug_mode=True)\n",
        "\n",
        "processed_img, binary_img, quality_metrics = preprocessor.adaptive_preprocessing_pipeline(\n",
        "    image_path='noisy_document.jpg'\n",
        ")\n",
        "\n",
        "print(\"\\n📊 이미지 품질 지표:\")\n",
        "for key, value in quality_metrics.items():\n",
        "    print(f\"  {key}: {value}\")\n"
      ]
    },
    {
      "cell_type": "code",
      "execution_count": null,
      "metadata": {},
      "outputs": [],
      "source": [
        "# 전처리 전후 OCR 비교\n",
        "import pytesseract\n",
        "import Levenshtein\n",
        "\n",
        "ground_truth = \"계약서 계약일자: 2025년 1월 15일 계약금액: 1,500,000원 담당자: 홍길동 (02-1234-5678)\"\n",
        "\n",
        "# OCR 실행\n",
        "original = cv2.imread('noisy_document.jpg')\n",
        "original_text = pytesseract.image_to_string(original, lang='kor+eng')\n",
        "processed_text = pytesseract.image_to_string(binary_img, lang='kor+eng')\n",
        "\n",
        "# 정확도 계산\n",
        "def calc_accuracy(pred, truth):\n",
        "    distance = Levenshtein.distance(pred, truth)\n",
        "    return max(0, (1 - distance / max(len(pred), len(truth))) * 100)\n",
        "\n",
        "original_acc = calc_accuracy(original_text, ground_truth)\n",
        "processed_acc = calc_accuracy(processed_text, ground_truth)\n",
        "\n",
        "print(f\"\\n📊 정확도 개선:\")\n",
        "print(f\"  원본: {original_acc:.2f}%\")\n",
        "print(f\"  전처리 후: {processed_acc:.2f}%\")\n",
        "print(f\"  개선: +{processed_acc - original_acc:.2f}%p\")\n",
        "print(f\"\\n✅ 전처리로 OCR 정확도 향상!\")\n"
      ]
    }
  ],
  "metadata": {
    "language_info": {
      "name": "python"
    }
  },
  "nbformat": 4,
  "nbformat_minor": 2
}
