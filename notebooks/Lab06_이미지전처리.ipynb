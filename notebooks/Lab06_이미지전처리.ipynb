{
  "cells": [
    {
      "cell_type": "markdown",
      "metadata": {},
      "source": [
        "# ?�습 06: ?��?지 ?�처리로 OCR ?�확???�상\n",
        "\n",
        "[![Open In Colab](https://colab.research.google.com/assets/colab-badge.svg)](https://colab.research.google.com/github/leecks1119/document_ai_lecture/blob/master/notebooks/Lab06_?��?지?�처�?ipynb)\n",
        "\n",
        "## ?�� ?�습 목표\n",
        "- ?��?지 ?�질 ?��?\n",
        "- ?�이�??�거, ?�진?? 기울�?보정\n",
        "- ?�처�??�후 OCR ?�능 비교\n",
        "\n",
        "## ?�️ ?�요 ?�간: 40�?n",
        "## ?�� ?�이?? ⭐⭐⭐⭐??n"
      ]
    },
    {
      "cell_type": "code",
      "execution_count": null,
      "metadata": {},
      "outputs": [],
      "source": [
        "# ?�경 ?�정\n",
        "!pip install -q git+https://github.com/leecks1119/document_ai_lecture.git\n",
        "!apt-get install -y tesseract-ocr tesseract-ocr-kor\n"
      ]
    },
    {
      "cell_type": "code",
      "execution_count": null,
      "metadata": {},
      "outputs": [],
      "source": [
        "# ?�이즈�? ?�는 ?�스???��?지 ?�성\n",
        "from docai_course.preprocessing import DocumentPreprocessor\n",
        "from PIL import Image, ImageDraw\n",
        "import cv2\n",
        "import numpy as np\n",
        "\n",
        "# 깨끗???��?지 ?�성\n",
        "img = Image.new('RGB', (600, 300), color='white')\n",
        "draw = ImageDraw.Draw(img)\n",
        "text = \"계약??\n\\n계약?�자: 2025??1??15??\n계약금액: 1,500,000??\n?�당?? ?�길??(02-1234-5678)\"\n",
        "draw.text((30, 30), text, fill='black')\n",
        "\n",
        "# OpenCV 변??�??�이�?추�?\n",
        "img_cv = cv2.cvtColor(np.array(img), cv2.COLOR_RGB2BGR)\n",
        "noise = np.random.normal(0, 25, img_cv.shape).astype(np.uint8)\n",
        "noisy_img = cv2.add(img_cv, noise)\n",
        "\n",
        "# 기울�?추�? (5??\n",
        "rows, cols = noisy_img.shape[:2]\n",
        "M = cv2.getRotationMatrix2D((cols/2, rows/2), 5, 1)\n",
        "rotated_img = cv2.warpAffine(noisy_img, M, (cols, rows), borderValue=(255,255,255))\n",
        "cv2.imwrite('noisy_document.jpg', rotated_img)\n",
        "\n",
        "print(\"???�이�??��?지 ?�성 ?�료!\")\n"
      ]
    },
    {
      "cell_type": "code",
      "execution_count": null,
      "metadata": {},
      "outputs": [],
      "source": [
        "# ?�응???�처�??�행\n",
        "preprocessor = DocumentPreprocessor(debug_mode=True)\n",
        "\n",
        "processed_img, binary_img, quality_metrics = preprocessor.adaptive_preprocessing_pipeline(\n",
        "    image_path='noisy_document.jpg'\n",
        ")\n",
        "\n",
        "print(\"\\n?�� ?��?지 ?�질 지??\")\n",
        "for key, value in quality_metrics.items():\n",
        "    print(f\"  {key}: {value}\")\n"
      ]
    },
    {
      "cell_type": "code",
      "execution_count": null,
      "metadata": {},
      "outputs": [],
      "source": [
        "# ?�처�??�후 OCR 비교\n",
        "import pytesseract\n",
        "import Levenshtein\n",
        "\n",
        "ground_truth = \"계약??계약?�자: 2025??1??15??계약금액: 1,500,000???�당?? ?�길??(02-1234-5678)\"\n",
        "\n",
        "# OCR ?�행\n",
        "original = cv2.imread('noisy_document.jpg')\n",
        "original_text = pytesseract.image_to_string(original, lang='kor+eng')\n",
        "processed_text = pytesseract.image_to_string(binary_img, lang='kor+eng')\n",
        "\n",
        "# ?�확??계산\n",
        "def calc_accuracy(pred, truth):\n",
        "    distance = Levenshtein.distance(pred, truth)\n",
        "    return max(0, (1 - distance / max(len(pred), len(truth))) * 100)\n",
        "\n",
        "original_acc = calc_accuracy(original_text, ground_truth)\n",
        "processed_acc = calc_accuracy(processed_text, ground_truth)\n",
        "\n",
        "print(f\"\\n?�� ?�확??개선:\")\n",
        "print(f\"  ?�본: {original_acc:.2f}%\")\n",
        "print(f\"  ?�처�??? {processed_acc:.2f}%\")\n",
        "print(f\"  개선: +{processed_acc - original_acc:.2f}%p\")\n",
        "print(f\"\\n???�처리로 OCR ?�확???�상!\")\n"
      ]
    }
  ],
  "metadata": {
    "language_info": {
      "name": "python"
    }
  },
  "nbformat": 4,
  "nbformat_minor": 2
}

