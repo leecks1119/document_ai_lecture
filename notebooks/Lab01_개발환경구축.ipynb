{
  "cells": [
    {
      "cell_type": "markdown",
      "metadata": {},
      "source": [
        "# ?�습 01: 개발?�경 구축\n",
        "\n",
        "[![Open In Colab](https://colab.research.google.com/assets/colab-badge.svg)](https://colab.research.google.com/github/leecks1119/document_ai_lecture/blob/master/notebooks/Lab01_개발?�경구축.ipynb)\n",
        "\n",
        "## ?�� ?�습 목표\n",
        "- Google Colab ?�경?�서 Document AI ?�습 준�?n",
        "- ?�요???�키지 ?�치 �??�스??n",
        "- ?�경 검�?n",
        "\n",
        "## ?�️ ?�요 ?�간\n",
        "- ??10�?n",
        "\n",
        "## ?�� ?�이??n",
        "⭐☆?�☆??(매우 ?��?)\n"
      ]
    },
    {
      "cell_type": "markdown",
      "metadata": {},
      "source": [
        "## ?�� Step 1: ?�키지 ?�치 (?�심!)\n",
        "\n",
        "??줄로 모든 ?�습 코드�??�용?????�습?�다!\n"
      ]
    },
    {
      "cell_type": "code",
      "execution_count": null,
      "metadata": {},
      "outputs": [],
      "source": [
        "# Document AI 강의???�키지 ?�치\n",
        "!pip install -q git+https://github.com/leecks1119/document_ai_lecture.git\n",
        "\n",
        "# Tesseract OCR ?�스???�키지 ?�치\n",
        "!apt-get update -qq\n",
        "!apt-get install -y tesseract-ocr tesseract-ocr-kor tesseract-ocr-eng\n",
        "\n",
        "print(\"???�치 ?�료!\")\n"
      ]
    },
    {
      "cell_type": "markdown",
      "metadata": {},
      "source": [
        "## ?�� Step 2: ?�경 검�?n",
        "\n",
        "?�치가 ?��?�??�었?��? ?�인?�니??\n"
      ]
    },
    {
      "cell_type": "code",
      "execution_count": null,
      "metadata": {},
      "outputs": [],
      "source": [
        "# ?�키지 ?�포???�스??n",
        "from docai_course import OCRBenchmark, DocumentPreprocessor, UnifiedNERSystem\n",
        "\n",
        "import cv2\n",
        "import numpy as np\n",
        "import pandas as pd\n",
        "import torch\n",
        "\n",
        "print(\"=\"*50)\n",
        "print(\"?�� ?�경 검�?")\n",
        "print(\"=\"*50)\n",
        "print(f\"\\n??OpenCV: {cv2.__version__}\")\n",
        "print(f\"??NumPy: {np.__version__}\")\n",
        "print(f\"??Pandas: {pd.__version__}\")\n",
        "print(f\"??PyTorch: {torch.__version__}\")\n",
        "print(f\"??CUDA ?�용 가?? {torch.cuda.is_available()}\")\n",
        "print(f\"\\n??Document AI ?�키지 로드 ?�공!\")\n",
        "print(\"\\n?�� ?�경 ?�정 ?�료! ?�음 ?�습?�로 진행?�세??\")\n"
      ]
    },
    {
      "cell_type": "markdown",
      "metadata": {},
      "source": [
        "## ?�� Step 3: 간단???�스??n",
        "\n",
        "OCR???�상 ?�동?�는지 ?�인?�니??\n"
      ]
    },
    {
      "cell_type": "code",
      "execution_count": null,
      "metadata": {},
      "outputs": [],
      "source": [
        "# 간단???��?지 ?�성 �?OCR ?�스??n",
        "from PIL import Image, ImageDraw\n",
        "import pytesseract\n",
        "\n",
        "# ?�스???��?지 ?�성\n",
        "img = Image.new('RGB', (400, 100), color='white')\n",
        "draw = ImageDraw.Draw(img)\n",
        "draw.text((10, 30), \"Document AI ?�습 ?�경 ?�스??", fill='black')\n",
        "\n",
        "# ?��?지 ?�일�??�??n",
        "test_image_path = 'test_ocr_sample.jpg'\n",
        "img.save(test_image_path)\n",
        "print(f\"???�스???��?지 ?�?? {test_image_path}\\n\")\n",
        "\n",
        "# ?�?�된 ?��?지�?OCR ?�행\n",
        "text = pytesseract.image_to_string(img, lang='kor+eng')\n",
        "print(f\"OCR 결과: {text}\")\n",
        "\n",
        "if \"Document\" in text or \"?�습\" in text:\n",
        "    print(\"??OCR ?�동 ?�상!\")\n",
        "else:\n",
        "    print(\"?�️ OCR 결과 ?�인 ?�요 (?��? ?�식 ?�할 ???�음)\")\n",
        "\n",
        "# ?��?지 미리보기\n",
        "print(\"\\n?�� ?�성???��?지:\")\n",
        "img\n"
      ]
    },
    {
      "cell_type": "markdown",
      "metadata": {},
      "source": [
        "---\n",
        "\n",
        "## ???�료!\n",
        "\n",
        "?�경 ?�정???�료?�었?�니?? ?�제 ?�음 ?�습?�로 ?�어�????�습?�다!\n",
        "\n",
        "### ?�� ?�음 ?�습\n",
        "- **Lab02**: Document AI 기술??n",
        "\n",
        "### ?�� 참고?�항\n",
        "- **Google Drive 마운??*: ?�택?�항?�니?? 결과�??�?�하�??�으�??�용?�세??\n",
        "- **GPU ?�정**: `?��??? ??`?��????�형 변�? ??`GPU` ?�택\n",
        "- **문제 발생 ??*: `?��??? ??`?��????�시 ?�작` ???�실??n"
      ]
    }
  ],
  "metadata": {
    "language_info": {
      "name": "python"
    }
  },
  "nbformat": 4,
  "nbformat_minor": 2
}

