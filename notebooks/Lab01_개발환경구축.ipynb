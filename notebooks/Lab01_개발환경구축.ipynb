{
  "cells": [
    {
      "cell_type": "markdown",
      "metadata": {},
      "source": [
        "# 실습 01: 개발환경 구축\n",
        "\n",
        "[![Open In Colab](https://colab.research.google.com/assets/colab-badge.svg)](https://colab.research.google.com/github/leecks1119/document_ai_lecture/blob/master/notebooks/Lab01_개발환경구축.ipynb)\n",
        "\n",
        "## 🎯 학습 목표\n",
        "- Google Colab 환경에서 Document AI 실습 준비\n",
        "- 필요한 패키지 설치 및 테스트\n",
        "- 환경 검증\n",
        "\n",
        "## ⏱️ 소요 시간\n",
        "- 약 10분\n",
        "\n",
        "## 📊 난이도\n",
        "⭐☆☆☆☆ (매우 쉬움)\n"
      ]
    },
    {
      "cell_type": "markdown",
      "metadata": {},
      "source": [
        "## 📦 Step 1: 패키지 설치 (핵심!)\n",
        "\n",
        "한 줄로 모든 실습 코드를 사용할 수 있습니다!\n"
      ]
    },
    {
      "cell_type": "code",
      "execution_count": null,
      "metadata": {},
      "outputs": [],
      "source": [
        "# Document AI 강의용 패키지 설치\n",
        "!pip install -q git+https://github.com/leecks1119/document_ai_lecture.git\n",
        "\n",
        "# Tesseract OCR 시스템 패키지 설치\n",
        "!apt-get update -qq\n",
        "!apt-get install -y tesseract-ocr tesseract-ocr-kor tesseract-ocr-eng\n",
        "\n",
        "print(\"✅ 설치 완료!\")\n"
      ]
    },
    {
      "cell_type": "markdown",
      "metadata": {},
      "source": [
        "## 🔍 Step 2: 환경 검증\n",
        "\n",
        "설치가 제대로 되었는지 확인합니다.\n"
      ]
    },
    {
      "cell_type": "code",
      "execution_count": null,
      "metadata": {},
      "outputs": [],
      "source": [
        "# 패키지 임포트 테스트\n",
        "from docai_course import OCRBenchmark, DocumentPreprocessor, UnifiedNERSystem\n",
        "\n",
        "import cv2\n",
        "import numpy as np\n",
        "import pandas as pd\n",
        "import torch\n",
        "\n",
        "print(\"=\"*50)\n",
        "print(\"🔍 환경 검증\")\n",
        "print(\"=\"*50)\n",
        "print(f\"\\n✅ OpenCV: {cv2.__version__}\")\n",
        "print(f\"✅ NumPy: {np.__version__}\")\n",
        "print(f\"✅ Pandas: {pd.__version__}\")\n",
        "print(f\"✅ PyTorch: {torch.__version__}\")\n",
        "print(f\"✅ CUDA 사용 가능: {torch.cuda.is_available()}\")\n",
        "print(f\"\\n✅ Document AI 패키지 로드 성공!\")\n",
        "print(\"\\n🎉 환경 설정 완료! 다음 실습으로 진행하세요.\")\n"
      ]
    },
    {
      "cell_type": "markdown",
      "metadata": {},
      "source": [
        "## 🧪 Step 3: 간단한 테스트\n",
        "\n",
        "OCR이 정상 작동하는지 확인합니다.\n"
      ]
    },
    {
      "cell_type": "code",
      "execution_count": null,
      "metadata": {},
      "outputs": [],
      "source": [
        "# 간단한 이미지 생성 및 OCR 테스트\n",
        "from PIL import Image, ImageDraw, ImageFont\n",
        "import pytesseract\n",
        "\n",
        "# 한글 폰트 로드 (Windows/Linux 호환)\n",
        "try:\n",
        "    font = ImageFont.truetype(\"C:\\\\Windows\\\\Fonts\\\\malgun.ttf\", 20)\n",
        "except:\n",
        "    try:\n",
        "        font = ImageFont.truetype(\"/usr/share/fonts/truetype/nanum/NanumGothic.ttf\", 20)\n",
        "    except:\n",
        "        font = ImageFont.load_default()\n",
        "\n",
        "# 테스트 이미지 생성\n",
        "img = Image.new('RGB', (400, 100), color='white')\n",
        "draw = ImageDraw.Draw(img)\n",
        "draw.text((10, 30), \"Document AI 실습 환경 테스트\", fill='black', font=font)\n",
        "\n",
        "# 이미지 파일로 저장\n",
        "test_image_path = 'test_ocr_sample.jpg'\n",
        "img.save(test_image_path)\n",
        "print(f\"✅ 테스트 이미지 저장: {test_image_path}\\n\")\n",
        "\n",
        "# 저장된 이미지로 OCR 실행\n",
        "text = pytesseract.image_to_string(img, lang='kor+eng')\n",
        "print(f\"OCR 결과: {text}\")\n",
        "\n",
        "if \"Document\" in text or \"실습\" in text:\n",
        "    print(\"✅ OCR 작동 정상!\")\n",
        "else:\n",
        "    print(\"⚠️ OCR 결과 확인 필요 (한글 인식 약할 수 있음)\")\n",
        "\n",
        "# 이미지 미리보기\n",
        "print(\"\\n📷 생성된 이미지:\")\n",
        "img\n"
      ]
    },
    {
      "cell_type": "markdown",
      "metadata": {},
      "source": [
        "---\n",
        "\n",
        "## ✅ 완료!\n",
        "\n",
        "환경 설정이 완료되었습니다. 이제 다음 실습으로 넘어갈 수 있습니다!\n",
        "\n",
        "### 📚 다음 실습\n",
        "- **Lab02**: Document AI 기술표\n",
        "\n",
        "### 💡 참고사항\n",
        "- **Google Drive 마운트**: 선택사항입니다. 결과를 저장하고 싶으면 사용하세요.\n",
        "- **GPU 설정**: `런타임` → `런타임 유형 변경` → `GPU` 선택\n",
        "- **문제 발생 시**: `런타임` → `런타임 다시 시작` 후 재실행\n"
      ]
    }
  ],
  "metadata": {
    "language_info": {
      "name": "python"
    }
  },
  "nbformat": 4,
  "nbformat_minor": 2
}
